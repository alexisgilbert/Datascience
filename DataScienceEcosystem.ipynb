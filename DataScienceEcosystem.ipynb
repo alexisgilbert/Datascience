{
 "cells": [
  {
   "cell_type": "markdown",
   "id": "cb857938",
   "metadata": {},
   "source": [
    "# Data Science Tools and Ecosystem"
   ]
  },
  {
   "cell_type": "markdown",
   "id": "5bf919f9",
   "metadata": {},
   "source": [
    "## In this notebook, Data Science Tools and Ecosystem are summarized."
   ]
  },
  {
   "cell_type": "markdown",
   "id": "55b6fc6f",
   "metadata": {},
   "source": [
    "__Objectives__\n",
    "1. Introducing the tools Data scientists use\n",
    "2. Introducing Jupyter Notebooks, R and Python languages\n",
    "3. Introducing Git and Github repositories"
   ]
  },
  {
   "cell_type": "markdown",
   "id": "68c87bca",
   "metadata": {},
   "source": [
    "### Some of the popular languages that Data Scientists use are:\n",
    "    1. Python\n",
    "    2. R\n",
    "    3. Julia"
   ]
  },
  {
   "cell_type": "markdown",
   "id": "05bc0e79",
   "metadata": {},
   "source": [
    "### Some of the popular libraries that Data Scientists use are:\n",
    "    1. Numpy\n",
    "    2. Matplotlib\n",
    "    3. TensorFlow"
   ]
  },
  {
   "cell_type": "markdown",
   "id": "cd040432",
   "metadata": {},
   "source": [
    "| Data Science Tools | \n",
    "-----------------------\n",
    "|Databases           |\n",
    "|API                 |\n",
    "|Jupyter Notebook.   |"
   ]
  },
  {
   "cell_type": "markdown",
   "id": "95aee555",
   "metadata": {},
   "source": [
    "### Below are a few examples of evaluating arithmetic expressions in Python"
   ]
  },
  {
   "cell_type": "code",
   "execution_count": 5,
   "id": "b00143b1",
   "metadata": {},
   "outputs": [
    {
     "data": {
      "text/plain": [
       "17"
      ]
     },
     "execution_count": 5,
     "metadata": {},
     "output_type": "execute_result"
    }
   ],
   "source": [
    "#This a simple arithmetic expression to mutiply then add integers\n",
    "(3*4)+5"
   ]
  },
  {
   "cell_type": "code",
   "execution_count": 7,
   "id": "a93944ac",
   "metadata": {},
   "outputs": [
    {
     "name": "stdout",
     "output_type": "stream",
     "text": [
      "200 minutes is  3.3333333333333335 hours\n"
     ]
    }
   ],
   "source": [
    "#This will convert 200 minutes to hours by diving by 60\n",
    "print(\"200 minutes is \",200 / 60, \"hours\")"
   ]
  },
  {
   "cell_type": "markdown",
   "id": "9bfb30e8",
   "metadata": {},
   "source": [
    "## Author\n",
    "## Alexis Gilbert"
   ]
  },
  {
   "cell_type": "code",
   "execution_count": null,
   "id": "9aa5c35d",
   "metadata": {},
   "outputs": [],
   "source": []
  }
 ],
 "metadata": {
  "kernelspec": {
   "display_name": "Python 3 (ipykernel)",
   "language": "python",
   "name": "python3"
  },
  "language_info": {
   "codemirror_mode": {
    "name": "ipython",
    "version": 3
   },
   "file_extension": ".py",
   "mimetype": "text/x-python",
   "name": "python",
   "nbconvert_exporter": "python",
   "pygments_lexer": "ipython3",
   "version": "3.11.4"
  }
 },
 "nbformat": 4,
 "nbformat_minor": 5
}
